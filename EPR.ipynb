{
 "cells": [
  {
   "cell_type": "markdown",
   "metadata": {},
   "source": [
    "# How to Create Superposition of Qubits Using Cirq"
   ]
  },
  {
   "cell_type": "code",
   "execution_count": 6,
   "metadata": {},
   "outputs": [],
   "source": [
    "import random \n",
    "import cirq\n",
    "import qutip\n",
    "import numpy as np\n",
    "from cirq.circuits import InsertStrategy\n",
    "\n",
    "from cirq.contrib.svg import circuit_to_svg\n",
    "from IPython.display import SVG, display\n",
    "import os\n"
   ]
  },
  {
   "cell_type": "code",
   "execution_count": 8,
   "metadata": {},
   "outputs": [],
   "source": [
    "#Defining a function to print/output circuits in a clean way. This was shown to us by Nadine in lecture one \n",
    "def cprint(circuit):\n",
    "  \"\"\"Convert the cirq.Circuit to a temp svg and display + garbage collect.\"\"\"\n",
    "  with open(\"temp.svg\", 'w+') as f:\n",
    "    f.write(circuit_to_svg(circuit))\n",
    "  display(SVG('temp.svg'))\n",
    "  os.remove('temp.svg')"
   ]
  },
  {
   "cell_type": "markdown",
   "metadata": {},
   "source": [
    "# How to Create Entanglement of Qubits Using Cirq"
   ]
  },
  {
   "cell_type": "code",
   "execution_count": 71,
   "metadata": {},
   "outputs": [
    {
     "name": "stdout",
     "output_type": "stream",
     "text": [
      "[-0.59   -0.2029  0.7815]\n"
     ]
    },
    {
     "data": {
      "image/svg+xml": [
       "<svg width=\"160.0\" height=\"60\"><line x1=\"30.0\" x2=\"130.0\" y1=\"25.0\" y2=\"25.0\" stroke=\"black\" stroke-width=\"1\"/><rect x=\"10.0\" y=\"5.0\" width=\"40\" height=\"40\" stroke=\"black\" fill=\"white\" stroke-width=\"0\"/><text x=\"30.0\" y=\"25.0\" dominant-baseline=\"middle\" text-anchor=\"middle\" font-size=\"14px\">0: </text><rect x=\"70.0\" y=\"5.0\" width=\"40\" height=\"40\" stroke=\"black\" fill=\"white\" stroke-width=\"1\"/><text x=\"90.0\" y=\"25.0\" dominant-baseline=\"middle\" text-anchor=\"middle\" font-size=\"18px\">H</text></svg>"
      ],
      "text/plain": [
       "<IPython.core.display.SVG object>"
      ]
     },
     "metadata": {},
     "output_type": "display_data"
    },
    {
     "data": {
      "image/svg+xml": [
       "<svg width=\"160.0\" height=\"120\"><line x1=\"30.0\" x2=\"130.0\" y1=\"25.0\" y2=\"25.0\" stroke=\"black\" stroke-width=\"1\"/><line x1=\"30.0\" x2=\"130.0\" y1=\"85.0\" y2=\"85.0\" stroke=\"black\" stroke-width=\"1\"/><line x1=\"90.0\" x2=\"90.0\" y1=\"25.0\" y2=\"85.0\" stroke=\"black\" stroke-width=\"3\"/><rect x=\"10.0\" y=\"5.0\" width=\"40\" height=\"40\" stroke=\"black\" fill=\"white\" stroke-width=\"0\"/><text x=\"30.0\" y=\"25.0\" dominant-baseline=\"middle\" text-anchor=\"middle\" font-size=\"14px\">0: </text><rect x=\"10.0\" y=\"65.0\" width=\"40\" height=\"40\" stroke=\"black\" fill=\"white\" stroke-width=\"0\"/><text x=\"30.0\" y=\"85.0\" dominant-baseline=\"middle\" text-anchor=\"middle\" font-size=\"14px\">1: </text><circle cx=\"90.0\" cy=\"25.0\" r=\"10.0\"/><rect x=\"70.0\" y=\"65.0\" width=\"40\" height=\"40\" stroke=\"black\" fill=\"white\" stroke-width=\"1\"/><text x=\"90.0\" y=\"85.0\" dominant-baseline=\"middle\" text-anchor=\"middle\" font-size=\"18px\">X</text></svg>"
      ],
      "text/plain": [
       "<IPython.core.display.SVG object>"
      ]
     },
     "metadata": {},
     "output_type": "display_data"
    },
    {
     "data": {
      "image/svg+xml": [
       "<svg width=\"220.0\" height=\"120\"><line x1=\"30.0\" x2=\"190.0\" y1=\"25.0\" y2=\"25.0\" stroke=\"black\" stroke-width=\"1\"/><line x1=\"30.0\" x2=\"190.0\" y1=\"85.0\" y2=\"85.0\" stroke=\"black\" stroke-width=\"1\"/><line x1=\"150.0\" x2=\"150.0\" y1=\"25.0\" y2=\"85.0\" stroke=\"black\" stroke-width=\"3\"/><rect x=\"10.0\" y=\"5.0\" width=\"40\" height=\"40\" stroke=\"black\" fill=\"white\" stroke-width=\"0\"/><text x=\"30.0\" y=\"25.0\" dominant-baseline=\"middle\" text-anchor=\"middle\" font-size=\"14px\">A: </text><rect x=\"10.0\" y=\"65.0\" width=\"40\" height=\"40\" stroke=\"black\" fill=\"white\" stroke-width=\"0\"/><text x=\"30.0\" y=\"85.0\" dominant-baseline=\"middle\" text-anchor=\"middle\" font-size=\"14px\">A2: </text><rect x=\"70.0\" y=\"5.0\" width=\"40\" height=\"40\" stroke=\"black\" fill=\"white\" stroke-width=\"1\"/><text x=\"90.0\" y=\"25.0\" dominant-baseline=\"middle\" text-anchor=\"middle\" font-size=\"18px\">H</text><circle cx=\"150.0\" cy=\"25.0\" r=\"10.0\"/><rect x=\"130.0\" y=\"65.0\" width=\"40\" height=\"40\" stroke=\"black\" fill=\"white\" stroke-width=\"1\"/><text x=\"150.0\" y=\"85.0\" dominant-baseline=\"middle\" text-anchor=\"middle\" font-size=\"18px\">X</text></svg>"
      ],
      "text/plain": [
       "<IPython.core.display.SVG object>"
      ]
     },
     "metadata": {},
     "output_type": "display_data"
    },
    {
     "data": {
      "image/svg+xml": [
       "<svg width=\"220.0\" height=\"120\"><line x1=\"30.0\" x2=\"190.0\" y1=\"25.0\" y2=\"25.0\" stroke=\"black\" stroke-width=\"1\"/><line x1=\"30.0\" x2=\"190.0\" y1=\"85.0\" y2=\"85.0\" stroke=\"black\" stroke-width=\"1\"/><line x1=\"150.0\" x2=\"150.0\" y1=\"25.0\" y2=\"85.0\" stroke=\"black\" stroke-width=\"3\"/><rect x=\"10.0\" y=\"5.0\" width=\"40\" height=\"40\" stroke=\"black\" fill=\"white\" stroke-width=\"0\"/><text x=\"30.0\" y=\"25.0\" dominant-baseline=\"middle\" text-anchor=\"middle\" font-size=\"14px\">A: </text><rect x=\"10.0\" y=\"65.0\" width=\"40\" height=\"40\" stroke=\"black\" fill=\"white\" stroke-width=\"0\"/><text x=\"30.0\" y=\"85.0\" dominant-baseline=\"middle\" text-anchor=\"middle\" font-size=\"14px\">A2: </text><rect x=\"70.0\" y=\"5.0\" width=\"40\" height=\"40\" stroke=\"black\" fill=\"white\" stroke-width=\"1\"/><text x=\"90.0\" y=\"25.0\" dominant-baseline=\"middle\" text-anchor=\"middle\" font-size=\"18px\">H</text><circle cx=\"150.0\" cy=\"25.0\" r=\"10.0\"/><rect x=\"130.0\" y=\"65.0\" width=\"40\" height=\"40\" stroke=\"black\" fill=\"white\" stroke-width=\"1\"/><text x=\"150.0\" y=\"85.0\" dominant-baseline=\"middle\" text-anchor=\"middle\" font-size=\"18px\">X</text></svg>"
      ],
      "text/plain": [
       "<IPython.core.display.SVG object>"
      ]
     },
     "metadata": {},
     "output_type": "display_data"
    },
    {
     "data": {
      "image/svg+xml": [
       "<svg width=\"280.0\" height=\"120\"><line x1=\"30.0\" x2=\"250.0\" y1=\"25.0\" y2=\"25.0\" stroke=\"black\" stroke-width=\"1\"/><line x1=\"30.0\" x2=\"250.0\" y1=\"85.0\" y2=\"85.0\" stroke=\"black\" stroke-width=\"1\"/><line x1=\"150.0\" x2=\"150.0\" y1=\"25.0\" y2=\"85.0\" stroke=\"black\" stroke-width=\"3\"/><rect x=\"10.0\" y=\"5.0\" width=\"40\" height=\"40\" stroke=\"black\" fill=\"white\" stroke-width=\"0\"/><text x=\"30.0\" y=\"25.0\" dominant-baseline=\"middle\" text-anchor=\"middle\" font-size=\"14px\">A: </text><rect x=\"10.0\" y=\"65.0\" width=\"40\" height=\"40\" stroke=\"black\" fill=\"white\" stroke-width=\"0\"/><text x=\"30.0\" y=\"85.0\" dominant-baseline=\"middle\" text-anchor=\"middle\" font-size=\"14px\">A2: </text><rect x=\"70.0\" y=\"5.0\" width=\"40\" height=\"40\" stroke=\"black\" fill=\"white\" stroke-width=\"1\"/><text x=\"90.0\" y=\"25.0\" dominant-baseline=\"middle\" text-anchor=\"middle\" font-size=\"18px\">H</text><circle cx=\"150.0\" cy=\"25.0\" r=\"10.0\"/><rect x=\"130.0\" y=\"65.0\" width=\"40\" height=\"40\" stroke=\"black\" fill=\"white\" stroke-width=\"1\"/><text x=\"150.0\" y=\"85.0\" dominant-baseline=\"middle\" text-anchor=\"middle\" font-size=\"18px\">X</text><rect x=\"190.0\" y=\"65.0\" width=\"40\" height=\"40\" stroke=\"black\" fill=\"white\" stroke-width=\"1\"/><text x=\"210.0\" y=\"85.0\" dominant-baseline=\"middle\" text-anchor=\"middle\" font-size=\"18px\">H</text></svg>"
      ],
      "text/plain": [
       "<IPython.core.display.SVG object>"
      ]
     },
     "metadata": {},
     "output_type": "display_data"
    },
    {
     "data": {
      "image/svg+xml": [
       "<svg width=\"280.0\" height=\"120\"><line x1=\"30.0\" x2=\"250.0\" y1=\"25.0\" y2=\"25.0\" stroke=\"black\" stroke-width=\"1\"/><line x1=\"30.0\" x2=\"250.0\" y1=\"85.0\" y2=\"85.0\" stroke=\"black\" stroke-width=\"1\"/><line x1=\"150.0\" x2=\"150.0\" y1=\"25.0\" y2=\"85.0\" stroke=\"black\" stroke-width=\"3\"/><rect x=\"10.0\" y=\"5.0\" width=\"40\" height=\"40\" stroke=\"black\" fill=\"white\" stroke-width=\"0\"/><text x=\"30.0\" y=\"25.0\" dominant-baseline=\"middle\" text-anchor=\"middle\" font-size=\"14px\">A: </text><rect x=\"10.0\" y=\"65.0\" width=\"40\" height=\"40\" stroke=\"black\" fill=\"white\" stroke-width=\"0\"/><text x=\"30.0\" y=\"85.0\" dominant-baseline=\"middle\" text-anchor=\"middle\" font-size=\"14px\">A2: </text><rect x=\"70.0\" y=\"5.0\" width=\"40\" height=\"40\" stroke=\"black\" fill=\"white\" stroke-width=\"1\"/><text x=\"90.0\" y=\"25.0\" dominant-baseline=\"middle\" text-anchor=\"middle\" font-size=\"18px\">H</text><circle cx=\"150.0\" cy=\"25.0\" r=\"10.0\"/><rect x=\"130.0\" y=\"65.0\" width=\"40\" height=\"40\" stroke=\"black\" fill=\"white\" stroke-width=\"1\"/><text x=\"150.0\" y=\"85.0\" dominant-baseline=\"middle\" text-anchor=\"middle\" font-size=\"18px\">X</text><rect x=\"190.0\" y=\"5.0\" width=\"40\" height=\"40\" stroke=\"black\" fill=\"white\" stroke-width=\"1\"/><text x=\"210.0\" y=\"25.0\" dominant-baseline=\"middle\" text-anchor=\"middle\" font-size=\"18px\">M</text><rect x=\"190.0\" y=\"65.0\" width=\"40\" height=\"40\" stroke=\"black\" fill=\"white\" stroke-width=\"1\"/><text x=\"210.0\" y=\"85.0\" dominant-baseline=\"middle\" text-anchor=\"middle\" font-size=\"18px\">M</text></svg>"
      ],
      "text/plain": [
       "<IPython.core.display.SVG object>"
      ]
     },
     "metadata": {},
     "output_type": "display_data"
    }
   ],
   "source": [
    "#generate the qubits you want to entangle. Here there are two, you can define more if you wish \n",
    "q0, q1 = cirq.LineQubit.range(2)\n",
    "print(q)\n",
    "\n",
    "#how to apply the H gate to a qubit \n",
    "hadamardgate = cirq.H(q0)\n",
    "cprint(cirq.Circuit(hadamardgate))\n",
    "\n",
    "#how to apply a CNOT gate to your qubits\n",
    "controllednot = cirq.CNOT(q0,q1)\n",
    "cprint(cirq.Circuit(controllednot))\n",
    "\n",
    "#out them together to generate the entanglement of qubits 1 and 2\n",
    "q0 = cirq.NamedQubit(\"A\")\n",
    "q1 = cirq.NamedQubit(\"A2\")\n",
    "#q2 = cirq.NamedQubit(\"B\")\n",
    "ops = [cirq.H(q0), cirq.CNOT(q0, q1)]\n",
    "circuit = cirq.Circuit(*ops)\n",
    "cprint(circuit)\n",
    "\n",
    "# Remember by using Circuit's constructor as the tool to construct out circuit, which we have here, cirq takes a list of Moments. Each Moment must be explicitly constructed with its own list of Operations. \n",
    "#This gives complete control over how the operations are layed out\n",
    "\n",
    "#HOWEVER, there are altenrate methods to generating a ciruit, such as the \"append\" and instert\" functions, which would look like the following for our above example:\n",
    "\n",
    "#Using Append:\n",
    "\n",
    "circuit = cirq.Circuit()\n",
    "circuit.append([cirq.H(q0), cirq.CNOT(q0, q1)])\n",
    "cprint(circuit)\n",
    "\n",
    "#Using Insert:\n",
    "\n",
    "circuit.insert(2, cirq.H(q1))\n",
    "cprint(circuit)\n",
    "\n",
    "\n",
    "#can also measure our ciruit \n",
    "#measure:\n",
    "\n",
    "m = [cirq.H(q0), cirq.CNOT(q0, q1), cirq.measure(q0),cirq.measure(q1)]\n",
    "cprint(cirq.Circuit(*m))\n",
    "    "
   ]
  },
  {
   "cell_type": "code",
   "execution_count": 27,
   "metadata": {},
   "outputs": [
    {
     "name": "stdout",
     "output_type": "stream",
     "text": [
      "Moment 0: H(A)\n",
      "Moment 1: H(A)\n",
      "Moment 2: CNOT(A, A2)\n",
      "cirq.Circuit([\n",
      "    cirq.Moment(operations=[\n",
      "        cirq.H.on(cirq.NamedQubit('A')),\n",
      "    ]),\n",
      "    cirq.Moment(operations=[\n",
      "        cirq.H.on(cirq.NamedQubit('A')),\n",
      "    ]),\n",
      "    cirq.Moment(operations=[\n",
      "        cirq.CNOT.on(cirq.NamedQubit('A'), cirq.NamedQubit('A2')),\n",
      "    ]),\n",
      "])\n"
     ]
    }
   ],
   "source": [
    "#Remember, there are also methods of represting these cirits that can be used such as a text diagram, which we would define for the example above as :\n",
    "for i, moment in enumerate(circuit):\n",
    "    print('Moment {}: {}'.format(i, moment))\n",
    "    \n",
    "# if we were to elect this manner of representatin and wanted to inspect the internal structure of the circiit , we can simple ask cirq to deconstruct this for us by the following command:\n",
    "print(repr(circuit))"
   ]
  },
  {
   "cell_type": "code",
   "execution_count": null,
   "metadata": {},
   "outputs": [],
   "source": [
    "#Remember, there are two ways to apply a gate onto qubits. \n",
    "#First, we can apply the Hadamard gate H onto a qubit a using the on method: cirq.H.on(a) \n",
    "#Alternatively we can achieve this by calling the gate directly on the qubit (as if the gate was a function and the qubits were arguments): cirq.H(a)"
   ]
  },
  {
   "cell_type": "code",
   "execution_count": 11,
   "metadata": {},
   "outputs": [
    {
     "name": "stdout",
     "output_type": "stream",
     "text": [
      "CNOT =\n",
      "[[1.+0.j 0.+0.j 0.+0.j 0.+0.j]\n",
      " [0.+0.j 1.+0.j 0.+0.j 0.+0.j]\n",
      " [0.+0.j 0.+0.j 0.+0.j 1.+0.j]\n",
      " [0.+0.j 0.+0.j 1.+0.j 0.+0.j]]\n",
      "\n",
      "H =\n",
      "[[ 0.70710678+0.j  0.70710678+0.j]\n",
      " [ 0.70710678+0.j -0.70710678+0.j]]\n"
     ]
    }
   ],
   "source": [
    "#Remember, for each of these gates, calling cirq.unitary on the gate will tell you how it acts on the computational basis.\n",
    "\n",
    "print('CNOT =')\n",
    "print(cirq.unitary(cirq.CNOT))\n",
    "print('\\nH =')\n",
    "print(cirq.unitary(cirq.H))"
   ]
  },
  {
   "cell_type": "code",
   "execution_count": 42,
   "metadata": {},
   "outputs": [
    {
     "data": {
      "image/svg+xml": [
       "<svg width=\"280.0\" height=\"120\"><line x1=\"30.0\" x2=\"250.0\" y1=\"25.0\" y2=\"25.0\" stroke=\"black\" stroke-width=\"1\"/><line x1=\"30.0\" x2=\"250.0\" y1=\"85.0\" y2=\"85.0\" stroke=\"black\" stroke-width=\"1\"/><line x1=\"150.0\" x2=\"150.0\" y1=\"25.0\" y2=\"85.0\" stroke=\"black\" stroke-width=\"3\"/><line x1=\"210.0\" x2=\"210.0\" y1=\"25.0\" y2=\"85.0\" stroke=\"black\" stroke-width=\"3\"/><rect x=\"10.0\" y=\"5.0\" width=\"40\" height=\"40\" stroke=\"black\" fill=\"white\" stroke-width=\"0\"/><text x=\"30.0\" y=\"25.0\" dominant-baseline=\"middle\" text-anchor=\"middle\" font-size=\"14px\">A: </text><rect x=\"10.0\" y=\"65.0\" width=\"40\" height=\"40\" stroke=\"black\" fill=\"white\" stroke-width=\"0\"/><text x=\"30.0\" y=\"85.0\" dominant-baseline=\"middle\" text-anchor=\"middle\" font-size=\"14px\">A2: </text><rect x=\"70.0\" y=\"5.0\" width=\"40\" height=\"40\" stroke=\"black\" fill=\"white\" stroke-width=\"1\"/><text x=\"90.0\" y=\"25.0\" dominant-baseline=\"middle\" text-anchor=\"middle\" font-size=\"18px\">H</text><circle cx=\"150.0\" cy=\"25.0\" r=\"10.0\"/><rect x=\"130.0\" y=\"65.0\" width=\"40\" height=\"40\" stroke=\"black\" fill=\"white\" stroke-width=\"1\"/><text x=\"150.0\" y=\"85.0\" dominant-baseline=\"middle\" text-anchor=\"middle\" font-size=\"18px\">X</text><rect x=\"190.0\" y=\"5.0\" width=\"40\" height=\"40\" stroke=\"black\" fill=\"white\" stroke-width=\"1\"/><text x=\"210.0\" y=\"25.0\" dominant-baseline=\"middle\" text-anchor=\"middle\" font-size=\"18px\">M</text><rect x=\"190.0\" y=\"65.0\" width=\"40\" height=\"40\" stroke=\"black\" fill=\"white\" stroke-width=\"1\"/><text x=\"210.0\" y=\"85.0\" dominant-baseline=\"middle\" text-anchor=\"middle\" font-size=\"18px\">M</text></svg>"
      ],
      "text/plain": [
       "<IPython.core.display.SVG object>"
      ]
     },
     "metadata": {},
     "output_type": "display_data"
    },
    {
     "name": "stdout",
     "output_type": "stream",
     "text": [
      "\n",
      "Measurement results:  A,A2=1, 1\n"
     ]
    }
   ],
   "source": [
    "# to verify that entagnlement was generated between the qubits, let us re-prent the circuit and then apply a bell measurement and see if we get the expected outcome:\n",
    "#Remember in Cirq, simulators make a distinction between a “run” and a “simulation”\n",
    "#Remember, after creating the circuit and a simulator, we can \"run\" a simulation of the circuit and thereby simulate an actual measurement outcome. If we don't simulate the circuit we will be using \"run\", which will mimics the actual quantum hardware\n",
    "\n",
    "# Define our two qubits and some operations (the entanglement operation in this case, and H gate and a CNOT gate)\n",
    "q0 = cirq.NamedQubit(\"A\")\n",
    "q1 = cirq.NamedQubit(\"A2\")\n",
    "#q2 = cirq.NamedQubit(\"B\")\n",
    "\n",
    "\n",
    "# Define our entangelement circuit\n",
    "ops = [cirq.H(q0), cirq.CNOT(q0, q1), cirq.measure(q0,q1)]\n",
    "circuit = cirq.Circuit(*ops)\n",
    "cprint(circuit)\n",
    "\n",
    "\n",
    "# Define a simulator\n",
    "simulator = cirq.Simulator()\n",
    "\n",
    "# Run a simulation and print the measurement results:\n",
    "result = simulator.run(circuit)\n",
    "print('\\nMeasurement results: ',result)\n",
    "\n"
   ]
  },
  {
   "cell_type": "code",
   "execution_count": 43,
   "metadata": {},
   "outputs": [
    {
     "data": {
      "image/svg+xml": [
       "<svg width=\"220.0\" height=\"120\"><line x1=\"30.0\" x2=\"190.0\" y1=\"25.0\" y2=\"25.0\" stroke=\"black\" stroke-width=\"1\"/><line x1=\"30.0\" x2=\"190.0\" y1=\"85.0\" y2=\"85.0\" stroke=\"black\" stroke-width=\"1\"/><line x1=\"150.0\" x2=\"150.0\" y1=\"25.0\" y2=\"85.0\" stroke=\"black\" stroke-width=\"3\"/><rect x=\"10.0\" y=\"5.0\" width=\"40\" height=\"40\" stroke=\"black\" fill=\"white\" stroke-width=\"0\"/><text x=\"30.0\" y=\"25.0\" dominant-baseline=\"middle\" text-anchor=\"middle\" font-size=\"14px\">q0: </text><rect x=\"10.0\" y=\"65.0\" width=\"40\" height=\"40\" stroke=\"black\" fill=\"white\" stroke-width=\"0\"/><text x=\"30.0\" y=\"85.0\" dominant-baseline=\"middle\" text-anchor=\"middle\" font-size=\"14px\">q1: </text><rect x=\"70.0\" y=\"5.0\" width=\"40\" height=\"40\" stroke=\"black\" fill=\"white\" stroke-width=\"1\"/><text x=\"90.0\" y=\"25.0\" dominant-baseline=\"middle\" text-anchor=\"middle\" font-size=\"18px\">H</text><circle cx=\"150.0\" cy=\"25.0\" r=\"10.0\"/><rect x=\"130.0\" y=\"65.0\" width=\"40\" height=\"40\" stroke=\"black\" fill=\"white\" stroke-width=\"1\"/><text x=\"150.0\" y=\"85.0\" dominant-baseline=\"middle\" text-anchor=\"middle\" font-size=\"18px\">X</text></svg>"
      ],
      "text/plain": [
       "<IPython.core.display.SVG object>"
      ]
     },
     "metadata": {},
     "output_type": "display_data"
    },
    {
     "name": "stdout",
     "output_type": "stream",
     "text": [
      "\n",
      "Wavefunction:\n",
      "[ 0.707+0.j  0.   +0.j -0.   +0.j  0.707+0.j]\n",
      "\n",
      "Dirac notation:\n",
      "0.71|00⟩ + 0.71|11⟩\n"
     ]
    }
   ],
   "source": [
    "#Notice: Employing the \"run\" method of simulating our circuit (used above) mimics the actual hardware and therefore it doesn't give us access to unphysical objects like the wavefunction. If we want to know what the wave function looks like, we use the simulate methods:\n",
    "q0 = cirq.NamedQubit(\"q0\")\n",
    "q1 = cirq.NamedQubit(\"q1\")\n",
    "ops = [cirq.H(q0), cirq.CNOT(q0,q1)]\n",
    "\n",
    "# Define a basic Circuit\n",
    "circuit = cirq.Circuit(*ops)\n",
    "cprint(circuit)\n",
    "\n",
    "# Define a simulator\n",
    "simulator = cirq.Simulator()\n",
    "\n",
    "# Simulate the circuit\n",
    "result = simulator.simulate(circuit)\n",
    "\n",
    "print('\\nWavefunction:')\n",
    "print(np.around(result.final_state, 3))\n",
    "print('\\nDirac notation:')\n",
    "print(result.dirac_notation())\n"
   ]
  },
  {
   "cell_type": "markdown",
   "metadata": {},
   "source": [
    "# How to Create a Bell Inequality Test Using Cirq"
   ]
  },
  {
   "cell_type": "code",
   "execution_count": 66,
   "metadata": {},
   "outputs": [
    {
     "name": "stdout",
     "output_type": "stream",
     "text": [
      "<QS> =  0.728\n",
      "<RS> =  0.738\n",
      "<QT> =  0.68\n",
      "<RT> =  -0.7\n"
     ]
    }
   ],
   "source": [
    "#Julien \n",
    "\n",
    "import cirq\n",
    "import math\n",
    "import numpy as np\n",
    "import matplotlib\n",
    "import array as arr\n",
    "from cirq.circuits import InsertStrategy\n",
    "\n",
    "#Creating the different gates used in the circuit the spin\n",
    "class Bob1(cirq.SingleQubitGate):\n",
    "    \n",
    "    def _unitary_(self):\n",
    "        return np.array([[-1/math.sqrt(2),-1/math.sqrt(2)], [-1/math.sqrt(2), 1/math.sqrt(2)]])\n",
    "    \n",
    "    def __str__(self):\n",
    "        return 'S'\n",
    "\n",
    "class Bob2(cirq.SingleQubitGate):\n",
    "    \n",
    "    def _unitary_(self):\n",
    "        return np.array([[1/math.sqrt(2),-1/math.sqrt(2)], [-1/math.sqrt(2), -1/math.sqrt(2)]])\n",
    "    \n",
    "    def __str__(self):\n",
    "        return 'T'\n",
    "\n",
    "#Gates used to switch from computational basis to the eigenbasis of the differents spinors\n",
    "\n",
    "class TM(cirq.SingleQubitGate):\n",
    "    \n",
    "    def _unitary_(self):\n",
    "        return np.array([[math.cos(math.pi*0.375),math.sin(math.pi*0.375)], [math.sin(math.pi*0.375), -math.cos(math.pi*0.375)]])\n",
    "    \n",
    "    def __str__(self):\n",
    "        return 'TM'\n",
    "\n",
    "class SM(cirq.SingleQubitGate):\n",
    "    \n",
    "    def _unitary_(self):\n",
    "        return np.array([[math.cos(math.pi*0.625),math.sin(math.pi*0.625)], [math.sin(math.pi*0.625), -math.cos(math.pi*0.625)]])\n",
    "    \n",
    "    def __str__(self):\n",
    "        return 'SM'\n",
    "\n",
    "class RM(cirq.SingleQubitGate):\n",
    "    \n",
    "    def _unitary_(self):\n",
    "        return np.array([[math.cos(math.pi*0.25),math.sin(math.pi*0.25)], [math.sin(math.pi*0.25), -math.cos(math.pi*0.25)]])\n",
    "    \n",
    "    def __str__(self):\n",
    "        return 'RM'\n",
    "\n",
    "#Creating the differents circuits for the different settings\n",
    "\n",
    "q0, q1 = cirq.LineQubit.range(2)\n",
    "\n",
    "Bob1 = Bob1()\n",
    "\n",
    "Bob2 = Bob2()\n",
    "\n",
    "SM = SM()\n",
    "TM = TM()\n",
    "RM = RM()\n",
    "\n",
    "ops1 = [cirq.H(q0), cirq.CNOT(q0,q1), cirq.X(q0), cirq.Z(q0),cirq.Z(q0),Bob1(q1),cirq.measure(q0, key ='Q1'),SM(q1),cirq.measure(q1, key='S1')]\n",
    "ops2 = [cirq.H(q0), cirq.CNOT(q0,q1), cirq.X(q0), cirq.Z(q0),cirq.X(q0),Bob1(q1),RM(q0),cirq.measure(q0, key ='R1'),SM(q1),cirq.measure(q1, key='S2')]\n",
    "ops3 = [cirq.H(q0), cirq.CNOT(q0,q1), cirq.X(q0), cirq.Z(q0),cirq.Z(q0),Bob2(q1),cirq.measure(q0, key ='Q2'),TM(q1),cirq.measure(q1, key='T1')]\n",
    "ops4 = [cirq.H(q0), cirq.CNOT(q0,q1), cirq.X(q0), cirq.Z(q0),cirq.X(q0),Bob2(q1),RM(q0),cirq.measure(q0, key ='R2'),TM(q1),cirq.measure(q1, key='T2')]\n",
    "\n",
    "\n",
    "circuit1 = cirq.Circuit(*ops1, strategy=InsertStrategy.NEW)\n",
    "circuit2 = cirq.Circuit(*ops2, strategy=InsertStrategy.NEW)\n",
    "circuit3 = cirq.Circuit(*ops3, strategy=InsertStrategy.NEW)\n",
    "circuit4 = cirq.Circuit(*ops4, strategy=InsertStrategy.NEW)\n",
    "\n",
    "# Defining the simulator and collecting the datas from the different experiments\n",
    "simulator = cirq.Simulator()\n",
    "\n",
    "result1 = simulator.run(circuit1, repetitions= 1000)\n",
    "Q1 = np.array(result1.measurements['Q1'][:, 0],'i')\n",
    "S1 = np.array(result1.measurements['S1'][:, 0],'i')\n",
    "\n",
    "result2 = simulator.run(circuit2, repetitions= 1000)\n",
    "R1 = np.array(result2.measurements['R1'][:, 0],'i')\n",
    "S2 = np.array(result2.measurements['S2'][:, 0],'i')\n",
    "\n",
    "result3 = simulator.run(circuit3, repetitions= 1000)\n",
    "Q2 = np.array(result3.measurements['Q2'][:, 0],'i')\n",
    "T1 = np.array(result3.measurements['T1'][:, 0],'i')\n",
    "\n",
    "result4 = simulator.run(circuit4, repetitions= 1000)\n",
    "R2 = np.array(result4.measurements['R2'][:, 0],'i')\n",
    "T2 = np.array(result4.measurements['T2'][:, 0],'i')\n",
    "\n",
    "# Converting the measurments 0 into -1 as it is needed in the protocol\n",
    "for i in range(len(Q1)):\n",
    "  if Q1[i] == 0:\n",
    "    Q1[i] = -1\n",
    "  if Q2[i] == 0:\n",
    "    Q2[i] = -1\n",
    "  if S1[i] == 0:\n",
    "    S1[i] = -1\n",
    "  if S2[i] == 0:\n",
    "    S2[i] = -1\n",
    "  if R1[i] == 0:\n",
    "    R1[i] = -1\n",
    "  if R2[i] == 0:\n",
    "    R2[i] = -1\n",
    "  if T1[i] == 0:\n",
    "    T1[i] = -1\n",
    "  if T2[i] == 0:\n",
    "    T2[i] = -1\n",
    "\n",
    "#Calculating and printing out the correlators\n",
    "\n",
    "print('<QS> = ', np.vdot(Q1,S1)/1000)\n",
    "print('<RS> = ', np.vdot(R1,S2)/1000)\n",
    "print('<QT> = ', np.vdot(Q2,T1)/1000)\n",
    "print('<RT> = ', np.vdot(R2,T2)/1000)"
   ]
  },
  {
   "cell_type": "markdown",
   "metadata": {},
   "source": [
    "# How to Demonstrate Quantum Teleportation Using Cirq"
   ]
  },
  {
   "cell_type": "code",
   "execution_count": 51,
   "metadata": {},
   "outputs": [],
   "source": [
    "#First, let us define a function that returns a quantum teleportation circuit\n",
    "\n",
    "def make_quantum_teleportation_circuit(ranX, ranY):\n",
    "    \n",
    "    \n",
    "# Step 1: We need to create three qubits; A1 to be teleported, A2 to represent Alice's qubit, B is Bob's qubit that will be entangled with A2:\n",
    "    A1, A2, B = cirq.LineQubit.range(3)\n",
    "\n",
    "# Step 2: Now we need to create a circuit that will put Alice's first qubit, A1, into a random (i.e unknown to Alice) state:\n",
    "    circuit = cirq.Circuit()\n",
    "    circuit.append([cirq.X(A1)**ranX, cirq.Y(A1)**ranY])\n",
    "\n",
    "# Step 3: We can verify the state in which we prepared Alice's qubit A1, simulate circuit and store result in \"message\"\n",
    "    simulator = cirq.Simulator()\n",
    "    message = simulator.simulate(circuit)\n",
    "    \n",
    "# Step 4: Now we are ready to create the Bell state between Alice's second qubit A2 and Bob's qubit B:\n",
    "    circuit.append([cirq.H(A2), cirq.CNOT(A2,B)])\n",
    "    \n",
    "# Step 5: Now we teleport the state of A1 via the entanglement between A2 and B by making Alice perform a Bell measurement on her two qubits A1 and A2 \n",
    "    circuit.append([cirq.CNOT(A1,A2), cirq.H(A1), cirq.measure(A1,A2)])\n",
    "    \n",
    "# Step 6: After Alice's measurement, A1 and A2  will represent two classical bits, q and a. Bob will use these classical bits to perform the operations (Z^q)(X^a) on his entangled qubit B\n",
    "    circuit.append([cirq.CNOT(A2,B), cirq.CZ(A1,B)])\n",
    "\n",
    "    return message, circuit"
   ]
  },
  {
   "cell_type": "code",
   "execution_count": 54,
   "metadata": {},
   "outputs": [
    {
     "name": "stdout",
     "output_type": "stream",
     "text": [
      "Bloch vector of Alice's first qubit A1:   q = [qx, qy, qz] =  [-0.59  , -0.2029,  0.7815] \n",
      "\n"
     ]
    },
    {
     "ename": "NameError",
     "evalue": "name 'qutip' is not defined",
     "output_type": "error",
     "traceback": [
      "\u001b[0;31m---------------------------------------------------------------------------\u001b[0m",
      "\u001b[0;31mNameError\u001b[0m                                 Traceback (most recent call last)",
      "\u001b[0;32m<ipython-input-54-db0856aea590>\u001b[0m in \u001b[0;36m<module>\u001b[0;34m\u001b[0m\n\u001b[1;32m     10\u001b[0m \u001b[0mq\u001b[0m \u001b[0;34m=\u001b[0m \u001b[0mnp\u001b[0m\u001b[0;34m.\u001b[0m\u001b[0mround_\u001b[0m\u001b[0;34m(\u001b[0m\u001b[0mcirq\u001b[0m\u001b[0;34m.\u001b[0m\u001b[0mbloch_vector_from_state_vector\u001b[0m\u001b[0;34m(\u001b[0m\u001b[0mmessage\u001b[0m\u001b[0;34m.\u001b[0m\u001b[0mfinal_state\u001b[0m\u001b[0;34m,\u001b[0m \u001b[0;36m0\u001b[0m\u001b[0;34m)\u001b[0m\u001b[0;34m,\u001b[0m\u001b[0;36m4\u001b[0m\u001b[0;34m)\u001b[0m\u001b[0;34m\u001b[0m\u001b[0;34m\u001b[0m\u001b[0m\n\u001b[1;32m     11\u001b[0m \u001b[0mprint\u001b[0m\u001b[0;34m(\u001b[0m\u001b[0;34m\"Bloch vector of Alice's first qubit A1:  \"\u001b[0m\u001b[0;34m,\u001b[0m \u001b[0;34m\"q = [qx, qy, qz] = \"\u001b[0m\u001b[0;34m,\u001b[0m \u001b[0mnp\u001b[0m\u001b[0;34m.\u001b[0m\u001b[0marray2string\u001b[0m\u001b[0;34m(\u001b[0m\u001b[0mq\u001b[0m\u001b[0;34m,\u001b[0m\u001b[0mseparator\u001b[0m\u001b[0;34m=\u001b[0m\u001b[0;34m', '\u001b[0m\u001b[0;34m)\u001b[0m\u001b[0;34m,\u001b[0m \u001b[0;34m'\\n'\u001b[0m\u001b[0;34m)\u001b[0m\u001b[0;34m\u001b[0m\u001b[0;34m\u001b[0m\u001b[0m\n\u001b[0;32m---> 12\u001b[0;31m \u001b[0mBSphere\u001b[0m \u001b[0;34m=\u001b[0m \u001b[0mqutip\u001b[0m\u001b[0;34m.\u001b[0m\u001b[0mBloch\u001b[0m\u001b[0;34m(\u001b[0m\u001b[0;34m)\u001b[0m\u001b[0;34m\u001b[0m\u001b[0;34m\u001b[0m\u001b[0m\n\u001b[0m\u001b[1;32m     13\u001b[0m \u001b[0mBSphere\u001b[0m\u001b[0;34m.\u001b[0m\u001b[0madd_vectors\u001b[0m\u001b[0;34m(\u001b[0m\u001b[0mq\u001b[0m\u001b[0;34m)\u001b[0m\u001b[0;34m\u001b[0m\u001b[0;34m\u001b[0m\u001b[0m\n\u001b[1;32m     14\u001b[0m \u001b[0;34m\u001b[0m\u001b[0m\n",
      "\u001b[0;31mNameError\u001b[0m: name 'qutip' is not defined"
     ]
    }
   ],
   "source": [
    "#Now let us create two random numbers and use them as input for our make_quantum_teleportation_circuit function. \n",
    "\n",
    "# Create two random numbers between 0 and 1\n",
    "ranX = random.random()\n",
    "ranY = random.random()\n",
    "\n",
    "# Create the teleportation circuit\n",
    "quantummessage, circuit = make_quantum_teleportation_circuit(ranX, ranY)\n",
    "    \n",
    "a = np.round_(cirq.bloch_vector_from_state_vector(quantummessage.final_state, 0),4)\n",
    "print(\"Bloch vector of Alice's first qubit A1:  \", \"a = [qx, qy, qz] = \", np.array2string(a,separator=', '), '\\n')\n",
    "BSphere = qutip.Bloch()\n",
    "BSphere.add_vectors(a)\n",
    "\n",
    "cprint(circuit)\n",
    "    \n",
    "simulator = cirq.Simulator()\n",
    "receivedmessage = simulator.simulate(circuit)\n",
    "\n",
    "b = np.round_(cirq.bloch_vector_from_state_vector(receivedmessage.final_state, 2),4)\n",
    "print(\"\\nFinal Bloch vector of B:  \",\"b = [bx, by, bz] = \", np.array2string(b,separator=', '), '\\n')\n",
    "BSphere.add_vectors(b)\n",
    "BSphere.show()\n",
    "\n",
    "if (q==b).any(): \n",
    "  print('The state of Alices first qubit A1 was successfully teleported from Alice to Bob.')\n",
    "else:\n",
    "  print('The teleportation of qubit A1 to Bob failed.')"
   ]
  },
  {
   "cell_type": "markdown",
   "metadata": {},
   "source": [
    "# A Second Example of a Teleportation Circuit Using Cirq"
   ]
  },
  {
   "cell_type": "code",
   "execution_count": 65,
   "metadata": {},
   "outputs": [
    {
     "name": "stdout",
     "output_type": "stream",
     "text": [
      "message is 0 of type <class 'cirq.devices.line_qubit.LineQubit'>\n"
     ]
    },
    {
     "data": {
      "image/svg+xml": [
       "<svg width=\"269.9631640625\" height=\"60\"><line x1=\"30.0\" x2=\"239.9631640625\" y1=\"25.0\" y2=\"25.0\" stroke=\"black\" stroke-width=\"1\"/><rect x=\"10.0\" y=\"5.0\" width=\"40\" height=\"40\" stroke=\"black\" fill=\"white\" stroke-width=\"0\"/><text x=\"30.0\" y=\"25.0\" dominant-baseline=\"middle\" text-anchor=\"middle\" font-size=\"14px\">0: </text><rect x=\"70.0\" y=\"5.0\" width=\"69.698515625\" height=\"40\" stroke=\"black\" fill=\"white\" stroke-width=\"1\"/><text x=\"104.8492578125\" y=\"25.0\" dominant-baseline=\"middle\" text-anchor=\"middle\" font-size=\"14px\">X^(13/14)</text><rect x=\"159.698515625\" y=\"5.0\" width=\"60.26464843750001\" height=\"40\" stroke=\"black\" fill=\"white\" stroke-width=\"1\"/><text x=\"189.83083984375\" y=\"25.0\" dominant-baseline=\"middle\" text-anchor=\"middle\" font-size=\"14px\">Y^0.747</text></svg>"
      ],
      "text/plain": [
       "<IPython.core.display.SVG object>"
      ]
     },
     "metadata": {},
     "output_type": "display_data"
    },
    {
     "name": "stdout",
     "output_type": "stream",
     "text": [
      "x:  -0.6957 y:  -0.2198 z:  0.6839\n"
     ]
    },
    {
     "data": {
      "image/svg+xml": [
       "<svg width=\"269.9631640625\" height=\"180\"><line x1=\"30.0\" x2=\"239.9631640625\" y1=\"25.0\" y2=\"25.0\" stroke=\"black\" stroke-width=\"1\"/><line x1=\"30.0\" x2=\"239.9631640625\" y1=\"85.0\" y2=\"85.0\" stroke=\"black\" stroke-width=\"1\"/><line x1=\"30.0\" x2=\"239.9631640625\" y1=\"145.0\" y2=\"145.0\" stroke=\"black\" stroke-width=\"1\"/><line x1=\"189.83083984375\" x2=\"189.83083984375\" y1=\"85.0\" y2=\"145.0\" stroke=\"black\" stroke-width=\"3\"/><rect x=\"10.0\" y=\"5.0\" width=\"40\" height=\"40\" stroke=\"black\" fill=\"white\" stroke-width=\"0\"/><text x=\"30.0\" y=\"25.0\" dominant-baseline=\"middle\" text-anchor=\"middle\" font-size=\"14px\">0: </text><rect x=\"10.0\" y=\"65.0\" width=\"40\" height=\"40\" stroke=\"black\" fill=\"white\" stroke-width=\"0\"/><text x=\"30.0\" y=\"85.0\" dominant-baseline=\"middle\" text-anchor=\"middle\" font-size=\"14px\">1: </text><rect x=\"10.0\" y=\"125.0\" width=\"40\" height=\"40\" stroke=\"black\" fill=\"white\" stroke-width=\"0\"/><text x=\"30.0\" y=\"145.0\" dominant-baseline=\"middle\" text-anchor=\"middle\" font-size=\"14px\">2: </text><rect x=\"70.0\" y=\"5.0\" width=\"69.698515625\" height=\"40\" stroke=\"black\" fill=\"white\" stroke-width=\"1\"/><text x=\"104.8492578125\" y=\"25.0\" dominant-baseline=\"middle\" text-anchor=\"middle\" font-size=\"14px\">X^(13/14)</text><rect x=\"84.8492578125\" y=\"65.0\" width=\"40\" height=\"40\" stroke=\"black\" fill=\"white\" stroke-width=\"1\"/><text x=\"104.8492578125\" y=\"85.0\" dominant-baseline=\"middle\" text-anchor=\"middle\" font-size=\"18px\">H</text><rect x=\"159.698515625\" y=\"5.0\" width=\"60.26464843750001\" height=\"40\" stroke=\"black\" fill=\"white\" stroke-width=\"1\"/><text x=\"189.83083984375\" y=\"25.0\" dominant-baseline=\"middle\" text-anchor=\"middle\" font-size=\"14px\">Y^0.747</text><circle cx=\"189.83083984375\" cy=\"85.0\" r=\"10.0\"/><rect x=\"169.83083984375\" y=\"125.0\" width=\"40\" height=\"40\" stroke=\"black\" fill=\"white\" stroke-width=\"1\"/><text x=\"189.83083984375\" y=\"145.0\" dominant-baseline=\"middle\" text-anchor=\"middle\" font-size=\"18px\">X</text></svg>"
      ],
      "text/plain": [
       "<IPython.core.display.SVG object>"
      ]
     },
     "metadata": {},
     "output_type": "display_data"
    },
    {
     "data": {
      "image/svg+xml": [
       "<svg width=\"389.9631640625\" height=\"180\"><line x1=\"30.0\" x2=\"359.9631640625\" y1=\"25.0\" y2=\"25.0\" stroke=\"black\" stroke-width=\"1\"/><line x1=\"30.0\" x2=\"359.9631640625\" y1=\"85.0\" y2=\"85.0\" stroke=\"black\" stroke-width=\"1\"/><line x1=\"30.0\" x2=\"359.9631640625\" y1=\"145.0\" y2=\"145.0\" stroke=\"black\" stroke-width=\"1\"/><line x1=\"189.83083984375\" x2=\"189.83083984375\" y1=\"85.0\" y2=\"145.0\" stroke=\"black\" stroke-width=\"3\"/><line x1=\"259.9631640625\" x2=\"259.9631640625\" y1=\"25.0\" y2=\"85.0\" stroke=\"black\" stroke-width=\"3\"/><rect x=\"10.0\" y=\"5.0\" width=\"40\" height=\"40\" stroke=\"black\" fill=\"white\" stroke-width=\"0\"/><text x=\"30.0\" y=\"25.0\" dominant-baseline=\"middle\" text-anchor=\"middle\" font-size=\"14px\">0: </text><rect x=\"10.0\" y=\"65.0\" width=\"40\" height=\"40\" stroke=\"black\" fill=\"white\" stroke-width=\"0\"/><text x=\"30.0\" y=\"85.0\" dominant-baseline=\"middle\" text-anchor=\"middle\" font-size=\"14px\">1: </text><rect x=\"10.0\" y=\"125.0\" width=\"40\" height=\"40\" stroke=\"black\" fill=\"white\" stroke-width=\"0\"/><text x=\"30.0\" y=\"145.0\" dominant-baseline=\"middle\" text-anchor=\"middle\" font-size=\"14px\">2: </text><rect x=\"70.0\" y=\"5.0\" width=\"69.698515625\" height=\"40\" stroke=\"black\" fill=\"white\" stroke-width=\"1\"/><text x=\"104.8492578125\" y=\"25.0\" dominant-baseline=\"middle\" text-anchor=\"middle\" font-size=\"14px\">X^(13/14)</text><rect x=\"84.8492578125\" y=\"65.0\" width=\"40\" height=\"40\" stroke=\"black\" fill=\"white\" stroke-width=\"1\"/><text x=\"104.8492578125\" y=\"85.0\" dominant-baseline=\"middle\" text-anchor=\"middle\" font-size=\"18px\">H</text><rect x=\"159.698515625\" y=\"5.0\" width=\"60.26464843750001\" height=\"40\" stroke=\"black\" fill=\"white\" stroke-width=\"1\"/><text x=\"189.83083984375\" y=\"25.0\" dominant-baseline=\"middle\" text-anchor=\"middle\" font-size=\"14px\">Y^0.747</text><circle cx=\"189.83083984375\" cy=\"85.0\" r=\"10.0\"/><rect x=\"169.83083984375\" y=\"125.0\" width=\"40\" height=\"40\" stroke=\"black\" fill=\"white\" stroke-width=\"1\"/><text x=\"189.83083984375\" y=\"145.0\" dominant-baseline=\"middle\" text-anchor=\"middle\" font-size=\"18px\">X</text><circle cx=\"259.9631640625\" cy=\"25.0\" r=\"10.0\"/><rect x=\"239.96316406250003\" y=\"65.0\" width=\"40\" height=\"40\" stroke=\"black\" fill=\"white\" stroke-width=\"1\"/><text x=\"259.9631640625\" y=\"85.0\" dominant-baseline=\"middle\" text-anchor=\"middle\" font-size=\"18px\">X</text><rect x=\"299.9631640625\" y=\"5.0\" width=\"40\" height=\"40\" stroke=\"black\" fill=\"white\" stroke-width=\"1\"/><text x=\"319.9631640625\" y=\"25.0\" dominant-baseline=\"middle\" text-anchor=\"middle\" font-size=\"18px\">H</text></svg>"
      ],
      "text/plain": [
       "<IPython.core.display.SVG object>"
      ]
     },
     "metadata": {},
     "output_type": "display_data"
    },
    {
     "data": {
      "image/svg+xml": [
       "<svg width=\"449.9631640625\" height=\"180\"><line x1=\"30.0\" x2=\"419.9631640625\" y1=\"25.0\" y2=\"25.0\" stroke=\"black\" stroke-width=\"1\"/><line x1=\"30.0\" x2=\"419.9631640625\" y1=\"85.0\" y2=\"85.0\" stroke=\"black\" stroke-width=\"1\"/><line x1=\"30.0\" x2=\"419.9631640625\" y1=\"145.0\" y2=\"145.0\" stroke=\"black\" stroke-width=\"1\"/><line x1=\"189.83083984375\" x2=\"189.83083984375\" y1=\"85.0\" y2=\"145.0\" stroke=\"black\" stroke-width=\"3\"/><line x1=\"259.9631640625\" x2=\"259.9631640625\" y1=\"25.0\" y2=\"85.0\" stroke=\"black\" stroke-width=\"3\"/><line x1=\"379.9631640625\" x2=\"379.9631640625\" y1=\"25.0\" y2=\"85.0\" stroke=\"black\" stroke-width=\"3\"/><rect x=\"10.0\" y=\"5.0\" width=\"40\" height=\"40\" stroke=\"black\" fill=\"white\" stroke-width=\"0\"/><text x=\"30.0\" y=\"25.0\" dominant-baseline=\"middle\" text-anchor=\"middle\" font-size=\"14px\">0: </text><rect x=\"10.0\" y=\"65.0\" width=\"40\" height=\"40\" stroke=\"black\" fill=\"white\" stroke-width=\"0\"/><text x=\"30.0\" y=\"85.0\" dominant-baseline=\"middle\" text-anchor=\"middle\" font-size=\"14px\">1: </text><rect x=\"10.0\" y=\"125.0\" width=\"40\" height=\"40\" stroke=\"black\" fill=\"white\" stroke-width=\"0\"/><text x=\"30.0\" y=\"145.0\" dominant-baseline=\"middle\" text-anchor=\"middle\" font-size=\"14px\">2: </text><rect x=\"70.0\" y=\"5.0\" width=\"69.698515625\" height=\"40\" stroke=\"black\" fill=\"white\" stroke-width=\"1\"/><text x=\"104.8492578125\" y=\"25.0\" dominant-baseline=\"middle\" text-anchor=\"middle\" font-size=\"14px\">X^(13/14)</text><rect x=\"84.8492578125\" y=\"65.0\" width=\"40\" height=\"40\" stroke=\"black\" fill=\"white\" stroke-width=\"1\"/><text x=\"104.8492578125\" y=\"85.0\" dominant-baseline=\"middle\" text-anchor=\"middle\" font-size=\"18px\">H</text><rect x=\"159.698515625\" y=\"5.0\" width=\"60.26464843750001\" height=\"40\" stroke=\"black\" fill=\"white\" stroke-width=\"1\"/><text x=\"189.83083984375\" y=\"25.0\" dominant-baseline=\"middle\" text-anchor=\"middle\" font-size=\"14px\">Y^0.747</text><circle cx=\"189.83083984375\" cy=\"85.0\" r=\"10.0\"/><rect x=\"169.83083984375\" y=\"125.0\" width=\"40\" height=\"40\" stroke=\"black\" fill=\"white\" stroke-width=\"1\"/><text x=\"189.83083984375\" y=\"145.0\" dominant-baseline=\"middle\" text-anchor=\"middle\" font-size=\"18px\">X</text><circle cx=\"259.9631640625\" cy=\"25.0\" r=\"10.0\"/><rect x=\"239.96316406250003\" y=\"65.0\" width=\"40\" height=\"40\" stroke=\"black\" fill=\"white\" stroke-width=\"1\"/><text x=\"259.9631640625\" y=\"85.0\" dominant-baseline=\"middle\" text-anchor=\"middle\" font-size=\"18px\">X</text><rect x=\"299.9631640625\" y=\"5.0\" width=\"40\" height=\"40\" stroke=\"black\" fill=\"white\" stroke-width=\"1\"/><text x=\"319.9631640625\" y=\"25.0\" dominant-baseline=\"middle\" text-anchor=\"middle\" font-size=\"18px\">H</text><rect x=\"359.9631640625\" y=\"5.0\" width=\"40\" height=\"40\" stroke=\"black\" fill=\"white\" stroke-width=\"1\"/><text x=\"379.9631640625\" y=\"25.0\" dominant-baseline=\"middle\" text-anchor=\"middle\" font-size=\"18px\">M</text><rect x=\"359.9631640625\" y=\"65.0\" width=\"40\" height=\"40\" stroke=\"black\" fill=\"white\" stroke-width=\"1\"/><text x=\"379.9631640625\" y=\"85.0\" dominant-baseline=\"middle\" text-anchor=\"middle\" font-size=\"18px\">M</text></svg>"
      ],
      "text/plain": [
       "<IPython.core.display.SVG object>"
      ]
     },
     "metadata": {},
     "output_type": "display_data"
    },
    {
     "name": "stdout",
     "output_type": "stream",
     "text": [
      "x:  -0.6957 y:  -0.2198 z:  0.6839\n"
     ]
    }
   ],
   "source": [
    "#Creating Alice’s message (which will be teleported) by first creating our first qubit (object):\n",
    "\n",
    "import cirq\n",
    "quantmsg = cirq.LineQubit(0)\n",
    "print('message is {0} of type {1}'.format(quantmsg, type(quantmsg)))\n",
    "\n",
    "# Now we want to fill this object with a random qubit value, by applying an X gate and a Y gate to it, and multiplying by a random float number:'='\n",
    "\n",
    "import random\n",
    "ranX = random.random()\n",
    "ranY = random.random()\n",
    "ranq = cirq.X(quantmsg)**ranX, cirq.Y(quantmsg)**ranY\n",
    "\n",
    "#Now we can create a circuit and add Alice's first qubit (the message) to it. NOTICE how we have chosen to create our circuit using the append feature of cirq:\n",
    "\n",
    "circuit = cirq.Circuit()\n",
    "circuit.append(ranq)\n",
    "cprint(circuit)\n",
    "\n",
    "#The variable below, \"original_message\", holds Alice's message, which will be compared to the teleported message Bob recovers in the end. This will allow us to verify if teleportation was successful:\n",
    "\n",
    "import numpy as np\n",
    "sim = cirq.Simulator()\n",
    "original_message = sim.simulate(circuit)\n",
    "expected = cirq.bloch_vector_from_state_vector(original_message.final_state, 0)\n",
    "print(\"x: \", np.around(expected[0], 4), \"y: \", np.around(expected[1], 4), \"z: \", np.around(expected[2], 4))\n",
    "\n",
    "# print(\"Bloch vector of Alice's first qubit 'quantmsg':  \", \"quantmsg = [qx, qy, qz] = \", np.array2string(expected,separator=', '), '\\n')\n",
    "# BSphere = qutip.Bloch()\n",
    "# BSphere.add_vectors(expected)\n",
    "\n",
    "\n",
    "\n",
    "#Creating the entangled state between Alice's second qubit and Bob's qubit that will teleport Alice’s original message:\n",
    "\n",
    "alice, bob = cirq.LineQubit.range(1, 3)\n",
    "circuit.append([cirq.H(alice), cirq.CNOT(alice, bob)])\n",
    "cprint(circuit)\n",
    "\n",
    "#Entangling Alice’s original message into Alice's second qubit (labelled alice) that comprises half of the bell pair of qubits that Bob and Alice share:\n",
    "\n",
    "circuit.append([cirq.CNOT(quantmsg, alice), cirq.H(quantmsg)])\n",
    "cprint(circuit)\n",
    "\n",
    "#Alice processes her message by measuring her two qubits (labelled quantmsg and alice, respectively):\n",
    "\n",
    "circuit.append(cirq.measure(quantmsg, alice))\n",
    "cprint(circuit)\n",
    "\n",
    "\n",
    "#Bob measures his qubit and confirms whether the state from Alice's original message was teleported successfully:\n",
    "\n",
    "circuit.append([cirq.CNOT(alice, bob), cirq.CZ(quantmsg, bob)])\n",
    "final_results = sim.simulate(circuit)\n",
    "teleported = cirq.bloch_vector_from_state_vector(final_results.final_state, 2)\n",
    "print(\"x: \", np.around(teleported[0], 4), \"y: \", np.around(teleported[1], 4), \"z: \", np.around(teleported[2], 4))\n",
    "\n",
    "\n",
    "# print(\"\\nFinal Bloch vector of Bob's qubit B:  \",\"B = [bx, by, bz] = \", np.array2string(teleported,separator=', '), '\\n')\n",
    "# BSphere.add_vectors(teleported)\n",
    "# BSphere.show()\n",
    "\n",
    "\n",
    "#notice that we get the same result as the original message that was encoded into Alice's qubit, therefore the teleportation was indeed successful \n"
   ]
  },
  {
   "cell_type": "code",
   "execution_count": null,
   "metadata": {},
   "outputs": [],
   "source": []
  },
  {
   "cell_type": "markdown",
   "metadata": {},
   "source": [
    "# How to Demontsrate Superdense Coding Using Cirq "
   ]
  },
  {
   "cell_type": "code",
   "execution_count": null,
   "metadata": {},
   "outputs": [],
   "source": [
    "#Julian "
   ]
  },
  {
   "cell_type": "markdown",
   "metadata": {},
   "source": [
    "# Example of Multiqubit Entanglement and how this Entanglement is Preserved Using Cirq "
   ]
  },
  {
   "cell_type": "code",
   "execution_count": null,
   "metadata": {},
   "outputs": [],
   "source": []
  },
  {
   "cell_type": "markdown",
   "metadata": {},
   "source": [
    "# Example of Entanglement Using IBM Qiskit (can run on actual hardware, this will show how noise will yield non 50/50 outcome for bell state preparation)"
   ]
  },
  {
   "cell_type": "code",
   "execution_count": null,
   "metadata": {},
   "outputs": [],
   "source": []
  },
  {
   "cell_type": "code",
   "execution_count": null,
   "metadata": {},
   "outputs": [],
   "source": []
  },
  {
   "cell_type": "code",
   "execution_count": null,
   "metadata": {},
   "outputs": [],
   "source": []
  }
 ],
 "metadata": {
  "kernelspec": {
   "display_name": "Python 3",
   "language": "python",
   "name": "python3"
  },
  "language_info": {
   "codemirror_mode": {
    "name": "ipython",
    "version": 3
   },
   "file_extension": ".py",
   "mimetype": "text/x-python",
   "name": "python",
   "nbconvert_exporter": "python",
   "pygments_lexer": "ipython3",
   "version": "3.8.0"
  }
 },
 "nbformat": 4,
 "nbformat_minor": 2
}
